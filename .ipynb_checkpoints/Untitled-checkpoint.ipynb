{
 "cells": [
  {
   "cell_type": "markdown",
   "metadata": {},
   "source": [
    "# LDA Topic Extraction"
   ]
  },
  {
   "cell_type": "markdown",
   "metadata": {},
   "source": [
    "## Data"
   ]
  },
  {
   "cell_type": "code",
   "execution_count": 1,
   "metadata": {},
   "outputs": [],
   "source": [
    "import tensorflow as tf\n",
    "import os\n",
    "import io\n",
    "import re\n",
    "import pandas as pd"
   ]
  },
  {
   "cell_type": "code",
   "execution_count": 2,
   "metadata": {
    "scrolled": true
   },
   "outputs": [
    {
     "data": {
      "text/html": [
       "<div>\n",
       "<style scoped>\n",
       "    .dataframe tbody tr th:only-of-type {\n",
       "        vertical-align: middle;\n",
       "    }\n",
       "\n",
       "    .dataframe tbody tr th {\n",
       "        vertical-align: top;\n",
       "    }\n",
       "\n",
       "    .dataframe thead th {\n",
       "        text-align: right;\n",
       "    }\n",
       "</style>\n",
       "<table border=\"1\" class=\"dataframe\">\n",
       "  <thead>\n",
       "    <tr style=\"text-align: right;\">\n",
       "      <th></th>\n",
       "      <th>sentence</th>\n",
       "      <th>sentiment</th>\n",
       "      <th>polarity</th>\n",
       "    </tr>\n",
       "  </thead>\n",
       "  <tbody>\n",
       "    <tr>\n",
       "      <th>0</th>\n",
       "      <td>Weak start, solid middle, fantastic finish. Th...</td>\n",
       "      <td>9</td>\n",
       "      <td>1</td>\n",
       "    </tr>\n",
       "    <tr>\n",
       "      <th>1</th>\n",
       "      <td>There is great detail in A Bug's Life. Everyth...</td>\n",
       "      <td>8</td>\n",
       "      <td>1</td>\n",
       "    </tr>\n",
       "    <tr>\n",
       "      <th>2</th>\n",
       "      <td>What we have here is a compelling piece of low...</td>\n",
       "      <td>9</td>\n",
       "      <td>1</td>\n",
       "    </tr>\n",
       "    <tr>\n",
       "      <th>3</th>\n",
       "      <td>When I first saw this film in cinema 11 years ...</td>\n",
       "      <td>4</td>\n",
       "      <td>0</td>\n",
       "    </tr>\n",
       "    <tr>\n",
       "      <th>4</th>\n",
       "      <td>As with most of Ben Affleck's movies, the come...</td>\n",
       "      <td>1</td>\n",
       "      <td>0</td>\n",
       "    </tr>\n",
       "  </tbody>\n",
       "</table>\n",
       "</div>"
      ],
      "text/plain": [
       "                                            sentence sentiment  polarity\n",
       "0  Weak start, solid middle, fantastic finish. Th...         9         1\n",
       "1  There is great detail in A Bug's Life. Everyth...         8         1\n",
       "2  What we have here is a compelling piece of low...         9         1\n",
       "3  When I first saw this film in cinema 11 years ...         4         0\n",
       "4  As with most of Ben Affleck's movies, the come...         1         0"
      ]
     },
     "execution_count": 2,
     "metadata": {},
     "output_type": "execute_result"
    }
   ],
   "source": [
    "# Load all files from a directory in a DataFrame.\n",
    "\n",
    "def load_directory_data(directory):\n",
    "  data = {}\n",
    "  data[\"sentence\"] = []\n",
    "  data[\"sentiment\"] = []\n",
    "  for file_path in os.listdir(directory):\n",
    "    with tf.gfile.GFile(os.path.join(directory, file_path), \"r\") as f:\n",
    "      data[\"sentence\"].append(f.read())\n",
    "      data[\"sentiment\"].append(re.match(\"\\d+_(\\d+)\\.txt\", file_path).group(1))\n",
    "  return pd.DataFrame.from_dict(data)\n",
    "\n",
    "# Merge positive and negative examples, add a polarity column and shuffle.\n",
    "def load_dataset(directory):\n",
    "  pos_df = load_directory_data(os.path.join(directory, \"pos\"))\n",
    "  neg_df = load_directory_data(os.path.join(directory, \"neg\"))\n",
    "  pos_df[\"polarity\"] = 1\n",
    "  neg_df[\"polarity\"] = 0\n",
    "  return pd.concat([pos_df, neg_df]).sample(frac=1).reset_index(drop=True)\n",
    "\n",
    "# Download and process the dataset files.\n",
    "def download_and_load_datasets(force_download=False):\n",
    "  # dataset = \"Users/rithikjain/Desktop/jmore/short\"\n",
    "  dataset = tf.keras.utils.get_file(\n",
    "      fname=\"aclImdb.tar.gz\", \n",
    "      origin=\"http://ai.stanford.edu/~amaas/data/sentiment/aclImdb_v1.tar.gz\", \n",
    "      extract=True)\n",
    "  \n",
    "  train_df = load_dataset(os.path.join(os.path.dirname(dataset), \n",
    "                                       \"aclImdb\", \"train\"))\n",
    "  test_df = load_dataset(os.path.join(os.path.dirname(dataset), \n",
    "                                      \"aclImdb\", \"test\"))\n",
    "  \n",
    "  return train_df, test_df\n",
    "\n",
    "# Reduce logging output.\n",
    "tf.logging.set_verbosity(tf.logging.ERROR)\n",
    "\n",
    "train_df, test_df = download_and_load_datasets()\n",
    "train_df.head()"
   ]
  },
  {
   "cell_type": "code",
   "execution_count": 3,
   "metadata": {},
   "outputs": [],
   "source": [
    "sample_research = \"Users/rithikjain/Desktop/jmore/sample.txt\""
   ]
  },
  {
   "cell_type": "code",
   "execution_count": 1,
   "metadata": {},
   "outputs": [],
   "source": [
    "import re\n",
    "\n",
    "class RAKE(object):\n",
    "    def __init__(self, stopwords):\n",
    "        self._stop = re.compile('|'.join([r'\\b' + word + r'(?![\\w-])' for word in stopwords]), re.IGNORECASE)\n",
    "\n",
    "    def run(self, text):\n",
    "        \"\"\"\n",
    "        Obtain keywords using RAKE algo\n",
    "        :param text: Input text (str)\n",
    "        :return: Keywords [(token, score)] (list[(str, float)])\n",
    "        \"\"\"\n",
    "        tokens = self._pre_process(text)\n",
    "        candidates = self._process(tokens)\n",
    "\n",
    "        # Sort candidate tokens and filter them\n",
    "        sorted_keywords = sorted(candidates.iteritems(), key=lambda x: x[1], reverse=True)\n",
    "        keywords = [(kw[0], kw[1]) for kw in sorted_keywords if len(kw[0].split(' ')) < 4 and len(kw[0]) < 30]\n",
    "\n",
    "        return keywords\n",
    "\n",
    "    def _is_num(self, text):\n",
    "        \"\"\"\n",
    "        Check if entered text is a number\n",
    "        :param text: Text (str)\n",
    "        :return: Whether num (bool)\n",
    "        \"\"\"\n",
    "        try:\n",
    "            _ = float(text) if '.' in text else int(text)\n",
    "            return True\n",
    "        except ValueError:\n",
    "            return False\n",
    "\n",
    "    def _pre_process(self, text):\n",
    "        \"\"\"\n",
    "        Get all phrases between two stopwords\n",
    "        :param text: Text (str)\n",
    "        :return: List of tokens (list(str))\n",
    "        \"\"\"\n",
    "        # Split text into sentences\n",
    "        delimiters = re.compile(u'[.!?,;:\\t\\\\\\\\\"\\\\(\\\\)\\\\\\'\\u2019\\u2013]|\\\\s\\\\-\\\\s')\n",
    "        sents = delimiters.split(text)\n",
    "\n",
    "        tokens = []\n",
    "\n",
    "        for sent in sents:\n",
    "            phrases = re.sub(self._stop, '|', sent.strip()).split('|')  # A phrase is everything between two stopwords\n",
    "            tokens.extend([phrase.strip().lower() for phrase in phrases if phrase != ''])  # Cleaning\n",
    "\n",
    "        return tokens\n",
    "\n",
    "    def _process(self, tokens):\n",
    "        \"\"\"\n",
    "        Calculate scores for tokens\n",
    "        :param tokens: List of tokens (list(str))\n",
    "        :return: Tokens with scores {token: score} (dict(str: float))\n",
    "        \"\"\"\n",
    "        # Split phrase into its constituent words and clean it\n",
    "        def split(phrase):\n",
    "            splitter = re.compile('[^a-zA-Z0-9_\\\\+\\\\-/]')\n",
    "\n",
    "            return [w.strip().lower() for w in splitter.split(phrase) if w != '' and not self._is_num(w)]\n",
    "\n",
    "        # Calculate frequency and degree for each word\n",
    "        freq = {}\n",
    "        deg = {}\n",
    "\n",
    "        for token in tokens:\n",
    "            words = split(token)\n",
    "\n",
    "            for word in words:\n",
    "                freq[word] = freq.get(word, 0) + 1\n",
    "                deg[word] = deg.get(word, 0) + len(words) - 1\n",
    "\n",
    "        _ = [deg.update({item: deg[item] + freq[item]}) for item in freq]\n",
    "\n",
    "        # Calculate scores for each word as deg(word)/freq(word)\n",
    "        scores = {item: deg[item] / (freq[item] * 1.0) for item in freq}\n",
    "\n",
    "        # Calculate score for each token by adding scores of constituent words\n",
    "        candidates = {token: sum([scores[word] for word in split(token)]) for token in tokens}\n",
    "\n",
    "        return candidates"
   ]
  },
  {
   "cell_type": "code",
   "execution_count": 4,
   "metadata": {},
   "outputs": [
    {
     "ename": "NameError",
     "evalue": "name 'Rake' is not defined",
     "output_type": "error",
     "traceback": [
      "\u001b[0;31m---------------------------------------------------------------------------\u001b[0m",
      "\u001b[0;31mNameError\u001b[0m                                 Traceback (most recent call last)",
      "\u001b[0;32m<ipython-input-4-8b17dcd9eb4f>\u001b[0m in \u001b[0;36m<module>\u001b[0;34m\u001b[0m\n\u001b[0;32m----> 1\u001b[0;31m \u001b[0mr\u001b[0m \u001b[0;34m=\u001b[0m \u001b[0mRake\u001b[0m\u001b[0;34m(\u001b[0m\u001b[0;34m)\u001b[0m\u001b[0;34m\u001b[0m\u001b[0;34m\u001b[0m\u001b[0m\n\u001b[0m\u001b[1;32m      2\u001b[0m \u001b[0mr\u001b[0m\u001b[0;34m.\u001b[0m\u001b[0mextract_keywords_from_text\u001b[0m\u001b[0;34m(\u001b[0m\u001b[0msample_research\u001b[0m\u001b[0;34m)\u001b[0m\u001b[0;34m\u001b[0m\u001b[0;34m\u001b[0m\u001b[0m\n",
      "\u001b[0;31mNameError\u001b[0m: name 'Rake' is not defined"
     ]
    }
   ],
   "source": [
    "r = Rake()\n",
    "r.extract_keywords_from_text(sample_research)"
   ]
  },
  {
   "cell_type": "code",
   "execution_count": null,
   "metadata": {},
   "outputs": [],
   "source": []
  }
 ],
 "metadata": {
  "kernelspec": {
   "display_name": "Python 3",
   "language": "python",
   "name": "python3"
  },
  "language_info": {
   "codemirror_mode": {
    "name": "ipython",
    "version": 3
   },
   "file_extension": ".py",
   "mimetype": "text/x-python",
   "name": "python",
   "nbconvert_exporter": "python",
   "pygments_lexer": "ipython3",
   "version": "3.7.2"
  }
 },
 "nbformat": 4,
 "nbformat_minor": 2
}
